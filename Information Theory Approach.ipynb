{
 "cells": [
  {
   "cell_type": "code",
   "execution_count": 1,
   "id": "436b2a34",
   "metadata": {},
   "outputs": [],
   "source": [
    "import pandas as pd\n",
    "import numpy as np\n",
    "from services import validate, prepareWordDF\n",
    "import matplotlib.pyplot as plt"
   ]
  },
  {
   "cell_type": "code",
   "execution_count": 2,
   "id": "cf2dbab2",
   "metadata": {},
   "outputs": [
    {
     "name": "stdout",
     "output_type": "stream",
     "text": [
      "2316/2316\r"
     ]
    }
   ],
   "source": [
    "df = prepareWordDF()"
   ]
  },
  {
   "cell_type": "code",
   "execution_count": 3,
   "id": "15402785",
   "metadata": {},
   "outputs": [],
   "source": [
    "def filteredSearch(df, constraints, guess):\n",
    "    cols = []\n",
    "    for col in np.arange(5):\n",
    "        cols.append(f\"c{col}\")\n",
    "    filtered = df\n",
    "    for idx, constrain in enumerate(list(constraints)):\n",
    "        if(constrain==\"2\"):\n",
    "            filtered = filtered[filtered.eq(guess[idx]).any(1)]\n",
    "        if(constrain==\"1\"):\n",
    "            filtered = filtered[filtered[f\"c{idx}\"]==guess[idx]]\n",
    "        if(constrain==\"0\"):\n",
    "            filtered = filtered[filtered[f\"c{idx}\"]!=guess[idx]]\n",
    "    return filtered.reset_index()[cols]"
   ]
  },
  {
   "cell_type": "code",
   "execution_count": 4,
   "id": "0c072108",
   "metadata": {},
   "outputs": [],
   "source": [
    "word = \"hello\"\n",
    "guess = \"crowd\""
   ]
  },
  {
   "cell_type": "code",
   "execution_count": 6,
   "id": "43e525a7",
   "metadata": {},
   "outputs": [],
   "source": [
    "_, fb = validate(word, guess)"
   ]
  },
  {
   "cell_type": "code",
   "execution_count": 7,
   "id": "0608c95b",
   "metadata": {},
   "outputs": [],
   "source": [
    "cases = filteredSearch(df, fb, guess).shape[0]"
   ]
  },
  {
   "cell_type": "code",
   "execution_count": 8,
   "id": "fe0d789b",
   "metadata": {},
   "outputs": [
    {
     "data": {
      "text/plain": [
       "2.1802400570516154"
      ]
     },
     "execution_count": 8,
     "metadata": {},
     "output_type": "execute_result"
    }
   ],
   "source": [
    "np.log2(1/(cases/df.shape[0]))"
   ]
  },
  {
   "cell_type": "code",
   "execution_count": null,
   "id": "cd2b6b94",
   "metadata": {},
   "outputs": [],
   "source": []
  },
  {
   "cell_type": "code",
   "execution_count": 27,
   "id": "b7adb19e",
   "metadata": {},
   "outputs": [],
   "source": [
    "def xMap(guess, df):\n",
    "    fbMap = {}\n",
    "    for _, row in df.iterrows():\n",
    "        word = \"\".join(row)\n",
    "        _, fb = validate(word, guess)\n",
    "        if(fb in fbMap):\n",
    "            fbMap[fb] +=1\n",
    "        else:\n",
    "            fbMap[fb] = 1\n",
    "    return fbMap"
   ]
  },
  {
   "cell_type": "code",
   "execution_count": 32,
   "id": "c8fc3097",
   "metadata": {},
   "outputs": [],
   "source": [
    "def xG(guess, df):\n",
    "    fbMap = xMap(guess, df)\n",
    "    x = 0\n",
    "    for info in fbMap:\n",
    "        p = fbMap[info]/df.shape[0]\n",
    "        x += p* - np.log2(p)\n",
    "    return x"
   ]
  },
  {
   "cell_type": "code",
   "execution_count": null,
   "id": "54edebad",
   "metadata": {},
   "outputs": [],
   "source": []
  },
  {
   "cell_type": "code",
   "execution_count": 45,
   "id": "e5a11033",
   "metadata": {},
   "outputs": [
    {
     "data": {
      "text/plain": [
       "5.743726073449698"
      ]
     },
     "execution_count": 45,
     "metadata": {},
     "output_type": "execute_result"
    }
   ],
   "source": [
    "guess = \"crane\"\n",
    "xG(guess, df)"
   ]
  },
  {
   "cell_type": "code",
   "execution_count": 29,
   "id": "9f910b1a",
   "metadata": {},
   "outputs": [],
   "source": [
    "fbMap = a"
   ]
  },
  {
   "cell_type": "code",
   "execution_count": 28,
   "id": "df8d3372",
   "metadata": {},
   "outputs": [],
   "source": [
    "del prob"
   ]
  },
  {
   "cell_type": "code",
   "execution_count": null,
   "id": "41fd5a4a",
   "metadata": {},
   "outputs": [],
   "source": []
  }
 ],
 "metadata": {
  "kernelspec": {
   "display_name": "Python 3 (ipykernel)",
   "language": "python",
   "name": "python3"
  },
  "language_info": {
   "codemirror_mode": {
    "name": "ipython",
    "version": 3
   },
   "file_extension": ".py",
   "mimetype": "text/x-python",
   "name": "python",
   "nbconvert_exporter": "python",
   "pygments_lexer": "ipython3",
   "version": "3.9.7"
  }
 },
 "nbformat": 4,
 "nbformat_minor": 5
}
