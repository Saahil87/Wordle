{
 "cells": [
  {
   "cell_type": "code",
   "execution_count": 65,
   "id": "ddba031d",
   "metadata": {},
   "outputs": [],
   "source": [
    "import pandas as pd\n",
    "import numpy as np\n",
    "from services import validate\n",
    "import matplotlib.pyplot as plt"
   ]
  },
  {
   "cell_type": "code",
   "execution_count": 66,
   "id": "157d48e6",
   "metadata": {},
   "outputs": [],
   "source": [
    "with open(\"./data/words.txt\") as f:\n",
    "    words = f.readlines()"
   ]
  },
  {
   "cell_type": "code",
   "execution_count": 67,
   "id": "d877b8e2",
   "metadata": {},
   "outputs": [
    {
     "name": "stdout",
     "output_type": "stream",
     "text": [
      "2316/2316\r"
     ]
    }
   ],
   "source": [
    "cols = []\n",
    "for col in np.arange(5):\n",
    "    cols.append(f\"c{col}\")\n",
    "\n",
    "df = pd.DataFrame(columns = cols)\n",
    "for idx, word in enumerate(words):\n",
    "    print(f\"{idx+1}/{len(words)}\", end=\"\\r\")\n",
    "    df = pd.concat([df, pd.DataFrame([list(word.strip())], columns=cols)], ignore_index = True, axis = 0)"
   ]
  },
  {
   "cell_type": "code",
   "execution_count": 68,
   "id": "737e5222",
   "metadata": {},
   "outputs": [
    {
     "data": {
      "text/plain": [
       "(False, '02010')"
      ]
     },
     "execution_count": 68,
     "metadata": {},
     "output_type": "execute_result"
    }
   ],
   "source": [
    "validate(\"hello\", \"world\")"
   ]
  },
  {
   "cell_type": "code",
   "execution_count": 69,
   "id": "8fe5cb74",
   "metadata": {},
   "outputs": [
    {
     "data": {
      "text/plain": [
       "(1057, 5)"
      ]
     },
     "execution_count": 69,
     "metadata": {},
     "output_type": "execute_result"
    }
   ],
   "source": [
    "df[df.eq(\"e\").any(1)].shape"
   ]
  },
  {
   "cell_type": "code",
   "execution_count": 70,
   "id": "48c5c5fc",
   "metadata": {},
   "outputs": [],
   "source": [
    "word = \"hello\"\n",
    "guess = \"cello\""
   ]
  },
  {
   "cell_type": "code",
   "execution_count": 71,
   "id": "e2ab6b44",
   "metadata": {},
   "outputs": [],
   "source": [
    "constraints = validate(word, guess)"
   ]
  },
  {
   "cell_type": "code",
   "execution_count": 72,
   "id": "f62e6e27",
   "metadata": {},
   "outputs": [],
   "source": [
    "ud = filteredSearch(df.drop(index=guessIdx).reset_index(), constraints[1], guess)"
   ]
  },
  {
   "cell_type": "code",
   "execution_count": 73,
   "id": "79bb22d1",
   "metadata": {},
   "outputs": [
    {
     "ename": "SyntaxError",
     "evalue": "invalid syntax (3005678696.py, line 1)",
     "output_type": "error",
     "traceback": [
      "\u001b[0;36m  File \u001b[0;32m\"/var/folders/jl/gwvn14c9447_5__39d28pxz00000gn/T/ipykernel_98821/3005678696.py\"\u001b[0;36m, line \u001b[0;32m1\u001b[0m\n\u001b[0;31m    2/\u001b[0m\n\u001b[0m      ^\u001b[0m\n\u001b[0;31mSyntaxError\u001b[0m\u001b[0;31m:\u001b[0m invalid syntax\n"
     ]
    }
   ],
   "source": [
    "2/"
   ]
  },
  {
   "cell_type": "code",
   "execution_count": 74,
   "id": "07fc5621",
   "metadata": {},
   "outputs": [
    {
     "data": {
      "text/html": [
       "<div>\n",
       "<style scoped>\n",
       "    .dataframe tbody tr th:only-of-type {\n",
       "        vertical-align: middle;\n",
       "    }\n",
       "\n",
       "    .dataframe tbody tr th {\n",
       "        vertical-align: top;\n",
       "    }\n",
       "\n",
       "    .dataframe thead th {\n",
       "        text-align: right;\n",
       "    }\n",
       "</style>\n",
       "<table border=\"1\" class=\"dataframe\">\n",
       "  <thead>\n",
       "    <tr style=\"text-align: right;\">\n",
       "      <th></th>\n",
       "      <th>c0</th>\n",
       "      <th>c1</th>\n",
       "      <th>c2</th>\n",
       "      <th>c3</th>\n",
       "      <th>c4</th>\n",
       "    </tr>\n",
       "  </thead>\n",
       "  <tbody>\n",
       "    <tr>\n",
       "      <th>0</th>\n",
       "      <td>a</td>\n",
       "      <td>b</td>\n",
       "      <td>a</td>\n",
       "      <td>c</td>\n",
       "      <td>k</td>\n",
       "    </tr>\n",
       "    <tr>\n",
       "      <th>1</th>\n",
       "      <td>a</td>\n",
       "      <td>b</td>\n",
       "      <td>a</td>\n",
       "      <td>s</td>\n",
       "      <td>e</td>\n",
       "    </tr>\n",
       "    <tr>\n",
       "      <th>2</th>\n",
       "      <td>a</td>\n",
       "      <td>b</td>\n",
       "      <td>a</td>\n",
       "      <td>t</td>\n",
       "      <td>e</td>\n",
       "    </tr>\n",
       "    <tr>\n",
       "      <th>3</th>\n",
       "      <td>a</td>\n",
       "      <td>b</td>\n",
       "      <td>b</td>\n",
       "      <td>e</td>\n",
       "      <td>y</td>\n",
       "    </tr>\n",
       "    <tr>\n",
       "      <th>4</th>\n",
       "      <td>a</td>\n",
       "      <td>b</td>\n",
       "      <td>b</td>\n",
       "      <td>o</td>\n",
       "      <td>t</td>\n",
       "    </tr>\n",
       "    <tr>\n",
       "      <th>...</th>\n",
       "      <td>...</td>\n",
       "      <td>...</td>\n",
       "      <td>...</td>\n",
       "      <td>...</td>\n",
       "      <td>...</td>\n",
       "    </tr>\n",
       "    <tr>\n",
       "      <th>2310</th>\n",
       "      <td>y</td>\n",
       "      <td>o</td>\n",
       "      <td>u</td>\n",
       "      <td>n</td>\n",
       "      <td>g</td>\n",
       "    </tr>\n",
       "    <tr>\n",
       "      <th>2311</th>\n",
       "      <td>y</td>\n",
       "      <td>o</td>\n",
       "      <td>u</td>\n",
       "      <td>t</td>\n",
       "      <td>h</td>\n",
       "    </tr>\n",
       "    <tr>\n",
       "      <th>2312</th>\n",
       "      <td>z</td>\n",
       "      <td>e</td>\n",
       "      <td>b</td>\n",
       "      <td>r</td>\n",
       "      <td>a</td>\n",
       "    </tr>\n",
       "    <tr>\n",
       "      <th>2313</th>\n",
       "      <td>z</td>\n",
       "      <td>e</td>\n",
       "      <td>s</td>\n",
       "      <td>t</td>\n",
       "      <td>y</td>\n",
       "    </tr>\n",
       "    <tr>\n",
       "      <th>2314</th>\n",
       "      <td>z</td>\n",
       "      <td>o</td>\n",
       "      <td>n</td>\n",
       "      <td>a</td>\n",
       "      <td>l</td>\n",
       "    </tr>\n",
       "  </tbody>\n",
       "</table>\n",
       "<p>2315 rows × 5 columns</p>\n",
       "</div>"
      ],
      "text/plain": [
       "     c0 c1 c2 c3 c4\n",
       "0     a  b  a  c  k\n",
       "1     a  b  a  s  e\n",
       "2     a  b  a  t  e\n",
       "3     a  b  b  e  y\n",
       "4     a  b  b  o  t\n",
       "...  .. .. .. .. ..\n",
       "2310  y  o  u  n  g\n",
       "2311  y  o  u  t  h\n",
       "2312  z  e  b  r  a\n",
       "2313  z  e  s  t  y\n",
       "2314  z  o  n  a  l\n",
       "\n",
       "[2315 rows x 5 columns]"
      ]
     },
     "execution_count": 74,
     "metadata": {},
     "output_type": "execute_result"
    }
   ],
   "source": [
    "filteredSearch(df.drop(index=guessIdx).reset_index(), constraints, guess)"
   ]
  },
  {
   "cell_type": "code",
   "execution_count": 75,
   "id": "b5578cdf",
   "metadata": {},
   "outputs": [],
   "source": [
    "def filteredSearch(df, constraints, guess):\n",
    "    cols = []\n",
    "    for col in np.arange(5):\n",
    "        cols.append(f\"c{col}\")\n",
    "    filtered = df\n",
    "    for idx, constrain in enumerate(list(constraints)):\n",
    "        if(constrain==\"2\"):\n",
    "            filtered = filtered[filtered.eq(guess[idx]).any(1)]\n",
    "        if(constrain==\"1\"):\n",
    "            filtered = filtered[filtered[f\"c{idx}\"]==guess[idx]]\n",
    "        if(constrain==\"0\"):\n",
    "            filtered = filtered[filtered[f\"c{idx}\"]!=guess[idx]]\n",
    "    return filtered.reset_index()[cols]"
   ]
  },
  {
   "cell_type": "code",
   "execution_count": 76,
   "id": "d315062b",
   "metadata": {
    "scrolled": true
   },
   "outputs": [
    {
     "data": {
      "text/html": [
       "<div>\n",
       "<style scoped>\n",
       "    .dataframe tbody tr th:only-of-type {\n",
       "        vertical-align: middle;\n",
       "    }\n",
       "\n",
       "    .dataframe tbody tr th {\n",
       "        vertical-align: top;\n",
       "    }\n",
       "\n",
       "    .dataframe thead th {\n",
       "        text-align: right;\n",
       "    }\n",
       "</style>\n",
       "<table border=\"1\" class=\"dataframe\">\n",
       "  <thead>\n",
       "    <tr style=\"text-align: right;\">\n",
       "      <th></th>\n",
       "      <th>c0</th>\n",
       "      <th>c1</th>\n",
       "      <th>c2</th>\n",
       "      <th>c3</th>\n",
       "      <th>c4</th>\n",
       "    </tr>\n",
       "  </thead>\n",
       "  <tbody>\n",
       "    <tr>\n",
       "      <th>0</th>\n",
       "      <td>a</td>\n",
       "      <td>b</td>\n",
       "      <td>a</td>\n",
       "      <td>c</td>\n",
       "      <td>k</td>\n",
       "    </tr>\n",
       "    <tr>\n",
       "      <th>1</th>\n",
       "      <td>a</td>\n",
       "      <td>b</td>\n",
       "      <td>a</td>\n",
       "      <td>s</td>\n",
       "      <td>e</td>\n",
       "    </tr>\n",
       "    <tr>\n",
       "      <th>2</th>\n",
       "      <td>a</td>\n",
       "      <td>b</td>\n",
       "      <td>a</td>\n",
       "      <td>t</td>\n",
       "      <td>e</td>\n",
       "    </tr>\n",
       "    <tr>\n",
       "      <th>3</th>\n",
       "      <td>a</td>\n",
       "      <td>b</td>\n",
       "      <td>b</td>\n",
       "      <td>e</td>\n",
       "      <td>y</td>\n",
       "    </tr>\n",
       "    <tr>\n",
       "      <th>4</th>\n",
       "      <td>a</td>\n",
       "      <td>b</td>\n",
       "      <td>b</td>\n",
       "      <td>o</td>\n",
       "      <td>t</td>\n",
       "    </tr>\n",
       "    <tr>\n",
       "      <th>...</th>\n",
       "      <td>...</td>\n",
       "      <td>...</td>\n",
       "      <td>...</td>\n",
       "      <td>...</td>\n",
       "      <td>...</td>\n",
       "    </tr>\n",
       "    <tr>\n",
       "      <th>2311</th>\n",
       "      <td>y</td>\n",
       "      <td>o</td>\n",
       "      <td>u</td>\n",
       "      <td>n</td>\n",
       "      <td>g</td>\n",
       "    </tr>\n",
       "    <tr>\n",
       "      <th>2312</th>\n",
       "      <td>y</td>\n",
       "      <td>o</td>\n",
       "      <td>u</td>\n",
       "      <td>t</td>\n",
       "      <td>h</td>\n",
       "    </tr>\n",
       "    <tr>\n",
       "      <th>2313</th>\n",
       "      <td>z</td>\n",
       "      <td>e</td>\n",
       "      <td>b</td>\n",
       "      <td>r</td>\n",
       "      <td>a</td>\n",
       "    </tr>\n",
       "    <tr>\n",
       "      <th>2314</th>\n",
       "      <td>z</td>\n",
       "      <td>e</td>\n",
       "      <td>s</td>\n",
       "      <td>t</td>\n",
       "      <td>y</td>\n",
       "    </tr>\n",
       "    <tr>\n",
       "      <th>2315</th>\n",
       "      <td>z</td>\n",
       "      <td>o</td>\n",
       "      <td>n</td>\n",
       "      <td>a</td>\n",
       "      <td>l</td>\n",
       "    </tr>\n",
       "  </tbody>\n",
       "</table>\n",
       "<p>2316 rows × 5 columns</p>\n",
       "</div>"
      ],
      "text/plain": [
       "     c0 c1 c2 c3 c4\n",
       "0     a  b  a  c  k\n",
       "1     a  b  a  s  e\n",
       "2     a  b  a  t  e\n",
       "3     a  b  b  e  y\n",
       "4     a  b  b  o  t\n",
       "...  .. .. .. .. ..\n",
       "2311  y  o  u  n  g\n",
       "2312  y  o  u  t  h\n",
       "2313  z  e  b  r  a\n",
       "2314  z  e  s  t  y\n",
       "2315  z  o  n  a  l\n",
       "\n",
       "[2316 rows x 5 columns]"
      ]
     },
     "execution_count": 76,
     "metadata": {},
     "output_type": "execute_result"
    }
   ],
   "source": [
    "filteredSearch(df, constraints, guess)"
   ]
  },
  {
   "cell_type": "code",
   "execution_count": 77,
   "id": "1ac072d4",
   "metadata": {},
   "outputs": [],
   "source": [
    "guessIdx = np.random.randint(df.shape[0])"
   ]
  },
  {
   "cell_type": "code",
   "execution_count": 78,
   "id": "997beca7",
   "metadata": {},
   "outputs": [
    {
     "data": {
      "text/plain": [
       "'debug'"
      ]
     },
     "execution_count": 78,
     "metadata": {},
     "output_type": "execute_result"
    }
   ],
   "source": [
    "\"\".join(df.iloc[guessIdx].tolist())"
   ]
  },
  {
   "cell_type": "code",
   "execution_count": 79,
   "id": "545cd800",
   "metadata": {},
   "outputs": [
    {
     "data": {
      "text/plain": [
       "c0    d\n",
       "c1    e\n",
       "c2    b\n",
       "c3    u\n",
       "c4    t\n",
       "Name: 526, dtype: object"
      ]
     },
     "execution_count": 79,
     "metadata": {},
     "output_type": "execute_result"
    }
   ],
   "source": [
    "df.drop(index=guessIdx).iloc[guessIdx]"
   ]
  },
  {
   "cell_type": "code",
   "execution_count": 80,
   "id": "fed1218c",
   "metadata": {},
   "outputs": [],
   "source": [
    "def guessWordle(df, word):\n",
    "    isDone = False\n",
    "    count = 0\n",
    "#     print(f\"Word: {word}\")\n",
    "    while(isDone==False):\n",
    "        guessIdx = np.random.randint(df.shape[0])\n",
    "        guess = \"\".join(df.iloc[guessIdx].tolist())\n",
    "#         print(f\"Guess: {guess}; Search Space: {df.shape[0]}\")\n",
    "        isDone, constraints = validate(word, guess)\n",
    "        df = filteredSearch(df.drop(index=guessIdx).reset_index(), constraints, guess)\n",
    "        count+=1\n",
    "    \n",
    "    return count\n",
    "    "
   ]
  },
  {
   "cell_type": "code",
   "execution_count": 100,
   "id": "affb49a3",
   "metadata": {},
   "outputs": [
    {
     "name": "stdout",
     "output_type": "stream",
     "text": [
      "2316/2316\r"
     ]
    }
   ],
   "source": [
    "guesses = []\n",
    "for game in range(5):\n",
    "    for idx, word in enumerate(words):\n",
    "        print(f\"{idx+1}/{len(words)}\", end=\"\\r\")\n",
    "        guesses.append(guessWordle(df, word.strip()))"
   ]
  },
  {
   "cell_type": "code",
   "execution_count": 101,
   "id": "c9ba9948",
   "metadata": {},
   "outputs": [
    {
     "data": {
      "text/plain": [
       "(array([6060., 5472.,   48.,    0.]),\n",
       " array([ 0,  6, 12, 18, 24]),\n",
       " <BarContainer object of 4 artists>)"
      ]
     },
     "execution_count": 101,
     "metadata": {},
     "output_type": "execute_result"
    },
    {
     "data": {
      "image/png": "[encoded data removed]",
      "text/plain": [
       "<Figure size 432x288 with 1 Axes>"
      ]
     },
     "metadata": {
      "needs_background": "light"
     },
     "output_type": "display_data"
    }
   ],
   "source": [
    "plt.hist(guesses, edgecolor=\"red\", bins=np.arange(0, 30, 6))"
   ]
  },
  {
   "cell_type": "code",
   "execution_count": 99,
   "id": "c5500fea",
   "metadata": {},
   "outputs": [
    {
     "data": {
      "text/plain": [
       "(array([  0.,   1.,  51., 221., 387., 518., 466., 336., 173., 100.,  35.,\n",
       "         18.,   6.,   2.,   1.,   1.,   0.,   0.,   0.,   0.,   0.,   0.,\n",
       "          0.,   0.,   0.,   0.,   0.,   0.,   0.]),\n",
       " array([ 0,  1,  2,  3,  4,  5,  6,  7,  8,  9, 10, 11, 12, 13, 14, 15, 16,\n",
       "        17, 18, 19, 20, 21, 22, 23, 24, 25, 26, 27, 28, 29]),\n",
       " <BarContainer object of 29 artists>)"
      ]
     },
     "execution_count": 99,
     "metadata": {},
     "output_type": "execute_result"
    },
    {
     "data": {
      "image/png": "[encoded data removed]",
      "text/plain": [
       "<Figure size 432x288 with 1 Axes>"
      ]
     },
     "metadata": {
      "needs_background": "light"
     },
     "output_type": "display_data"
    }
   ],
   "source": [
    "plt.hist(guesses, edgecolor=\"red\", bins=np.arange(0, 30, 1))"
   ]
  },
  {
   "cell_type": "code",
   "execution_count": 102,
   "id": "fe9b4a8a",
   "metadata": {},
   "outputs": [
    {
     "data": {
      "text/plain": [
       "(array([0.000e+00, 4.000e+00, 2.360e+02, 1.080e+03, 2.107e+03, 2.633e+03,\n",
       "        2.265e+03, 1.546e+03, 9.000e+02, 4.490e+02, 2.200e+02, 9.200e+01,\n",
       "        3.200e+01, 1.000e+01, 5.000e+00, 0.000e+00, 1.000e+00, 0.000e+00,\n",
       "        0.000e+00, 0.000e+00, 0.000e+00, 0.000e+00, 0.000e+00, 0.000e+00,\n",
       "        0.000e+00, 0.000e+00, 0.000e+00, 0.000e+00, 0.000e+00]),\n",
       " array([ 0,  1,  2,  3,  4,  5,  6,  7,  8,  9, 10, 11, 12, 13, 14, 15, 16,\n",
       "        17, 18, 19, 20, 21, 22, 23, 24, 25, 26, 27, 28, 29]),\n",
       " <BarContainer object of 29 artists>)"
      ]
     },
     "execution_count": 102,
     "metadata": {},
     "output_type": "execute_result"
    },
    {
     "data": {
      "image/png": "[encoded data removed]",
      "text/plain": [
       "<Figure size 432x288 with 1 Axes>"
      ]
     },
     "metadata": {
      "needs_background": "light"
     },
     "output_type": "display_data"
    }
   ],
   "source": [
    "plt.hist(guesses, edgecolor=\"red\", bins=np.arange(0, 30, 1))"
   ]
  },
  {
   "cell_type": "code",
   "execution_count": 89,
   "id": "741258d7",
   "metadata": {},
   "outputs": [
    {
     "data": {
      "text/plain": [
       "0.3694239930705933"
      ]
     },
     "execution_count": 89,
     "metadata": {},
     "output_type": "execute_result"
    }
   ],
   "source": [
    "853/2309"
   ]
  },
  {
   "cell_type": "code",
   "execution_count": 103,
   "id": "63926cc7",
   "metadata": {},
   "outputs": [
    {
     "data": {
      "text/plain": [
       "array([6, 7, 5, ..., 9, 6, 7])"
      ]
     },
     "execution_count": 103,
     "metadata": {},
     "output_type": "execute_result"
    }
   ],
   "source": [
    "np.array(guesses)"
   ]
  },
  {
   "cell_type": "code",
   "execution_count": 105,
   "id": "1662e9ac",
   "metadata": {},
   "outputs": [
    {
     "data": {
      "text/plain": [
       "5.5936096718480135"
      ]
     },
     "execution_count": 105,
     "metadata": {},
     "output_type": "execute_result"
    }
   ],
   "source": [
    "np.mean(np.array(guesses))"
   ]
  },
  {
   "cell_type": "code",
   "execution_count": 52,
   "id": "9701a403",
   "metadata": {},
   "outputs": [
    {
     "data": {
      "text/plain": [
       "(2316, 5)"
      ]
     },
     "execution_count": 52,
     "metadata": {},
     "output_type": "execute_result"
    }
   ],
   "source": [
    "df.shape"
   ]
  },
  {
   "cell_type": "code",
   "execution_count": 63,
   "id": "df01f908",
   "metadata": {},
   "outputs": [],
   "source": [
    "p = (ud.shape[0]-1)/df.shape[0]"
   ]
  },
  {
   "cell_type": "code",
   "execution_count": 64,
   "id": "5d5d7f57",
   "metadata": {},
   "outputs": [
    {
     "data": {
      "text/plain": [
       "0.003345249066793128"
      ]
     },
     "execution_count": 64,
     "metadata": {},
     "output_type": "execute_result"
    }
   ],
   "source": [
    "p * np.log(1/p)"
   ]
  },
  {
   "cell_type": "code",
   "execution_count": 87,
   "id": "4952f20b",
   "metadata": {},
   "outputs": [
    {
     "data": {
      "text/plain": [
       "0.5086355785837651"
      ]
     },
     "execution_count": 87,
     "metadata": {},
     "output_type": "execute_result"
    }
   ],
   "source": [
    "1178/df.shape[0]"
   ]
  },
  {
   "cell_type": "code",
   "execution_count": 109,
   "id": "d014f91c",
   "metadata": {
    "scrolled": true
   },
   "outputs": [
    {
     "name": "stdout",
     "output_type": "stream",
     "text": [
      "('c0', 0       a\n",
      "1       a\n",
      "2       a\n",
      "3       a\n",
      "4       a\n",
      "       ..\n",
      "2311    y\n",
      "2312    y\n",
      "2313    z\n",
      "2314    z\n",
      "2315    z\n",
      "Name: c0, Length: 2316, dtype: object)\n",
      "('c1', 0       b\n",
      "1       b\n",
      "2       b\n",
      "3       b\n",
      "4       b\n",
      "       ..\n",
      "2311    o\n",
      "2312    o\n",
      "2313    e\n",
      "2314    e\n",
      "2315    o\n",
      "Name: c1, Length: 2316, dtype: object)\n",
      "('c2', 0       a\n",
      "1       a\n",
      "2       a\n",
      "3       b\n",
      "4       b\n",
      "       ..\n",
      "2311    u\n",
      "2312    u\n",
      "2313    b\n",
      "2314    s\n",
      "2315    n\n",
      "Name: c2, Length: 2316, dtype: object)\n",
      "('c3', 0       c\n",
      "1       s\n",
      "2       t\n",
      "3       e\n",
      "4       o\n",
      "       ..\n",
      "2311    n\n",
      "2312    t\n",
      "2313    r\n",
      "2314    t\n",
      "2315    a\n",
      "Name: c3, Length: 2316, dtype: object)\n",
      "('c4', 0       k\n",
      "1       e\n",
      "2       e\n",
      "3       y\n",
      "4       t\n",
      "       ..\n",
      "2311    g\n",
      "2312    h\n",
      "2313    a\n",
      "2314    y\n",
      "2315    l\n",
      "Name: c4, Length: 2316, dtype: object)\n"
     ]
    }
   ],
   "source": [
    "for item in df.iteritems():\n",
    "    print(item)\n",
    "    "
   ]
  },
  {
   "cell_type": "code",
   "execution_count": null,
   "id": "1dbf93ae",
   "metadata": {},
   "outputs": [],
   "source": []
  }
 ],
 "metadata": {
  "kernelspec": {
   "display_name": "Python 3 (ipykernel)",
   "language": "python",
   "name": "python3"
  },
  "language_info": {
   "codemirror_mode": {
    "name": "ipython",
    "version": 3
   },
   "file_extension": ".py",
   "mimetype": "text/x-python",
   "name": "python",
   "nbconvert_exporter": "python",
   "pygments_lexer": "ipython3",
   "version": "3.9.7"
  }
 },
 "nbformat": 4,
 "nbformat_minor": 5
}
